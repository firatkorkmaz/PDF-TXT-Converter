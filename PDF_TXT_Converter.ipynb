{
 "cells": [
  {
   "cell_type": "code",
   "execution_count": 1,
   "id": "daa10e82",
   "metadata": {},
   "outputs": [
    {
     "name": "stdout",
     "output_type": "stream",
     "text": [
      "File Name(s): 1\n",
      "Folder Name : 2\n",
      "Exit Program: *\n",
      "Select Input Mode: 1\n",
      "\n",
      "Example: file1.pdf, file2.pdf\n",
      "Enter PDF File Name(s): file1.pdf, file2.pdf\n",
      "\n",
      "Source File: file1.pdf\n",
      "Saved File : file1.txt\n",
      "\n",
      "Source File: file2.pdf\n",
      "Saved File : file2.txt\n",
      "\n"
     ]
    }
   ],
   "source": [
    "# PDF to TXT Converter for Multiple Files #\n",
    "\n",
    "import os\n",
    "import glob\n",
    "\n",
    "try:\n",
    "    import PyPDF2\n",
    "except:\n",
    "    os.system(\"pip install PyPDF2\")\n",
    "    import PyPDF2\n",
    "\n",
    "\n",
    "def PDF_TXT(in_path):\n",
    "    if not os.path.isfile(in_path):\n",
    "        print(f\"{in_path} does Not Exist!\\n\")\n",
    "        return\n",
    "\n",
    "    with open(in_path, 'rb') as in_file:\n",
    "        try:\n",
    "            reader = PyPDF2.PdfReader(in_file)\n",
    "        except:\n",
    "            print(f\"{in_path} is Not A PDF File!\\n\")\n",
    "            return\n",
    "            \n",
    "        out_path = in_path[:in_path.rfind(\".\")] + \".txt\"    # Save as \".txt\"\n",
    "        with open(out_path, 'w', encoding=\"utf-8\") as out_file:\n",
    "            for page_num in range(len(reader.pages)):\n",
    "                page = reader.pages[page_num]\n",
    "                content = page.extract_text()\n",
    "                out_file.write(content)\n",
    "        \n",
    "    # Printing Process Information\n",
    "    print(f\"Source File: {in_path}\")\n",
    "    print(f\"Saved File : {out_path}\\n\")\n",
    "    \n",
    "\n",
    "def main():\n",
    "    exit_main = False\n",
    "    while True:\n",
    "        inputMode = input(\"File Name(s): 1\\nFolder Name : 2\\nExit Program: *\\nSelect Input Mode: \")\n",
    "        if inputMode == \"*\":\n",
    "            exit_main = True\n",
    "            break\n",
    "        \n",
    "        try:\n",
    "            inputMode = int(inputMode.strip())\n",
    "            if inputMode != 1 and inputMode != 2:\n",
    "                print(\"Enter 1 or 2!\\n\")\n",
    "                continue\n",
    "        except:\n",
    "            print(\"Enter 1 or 2!\\n\")\n",
    "            continue\n",
    "        \n",
    "        break\n",
    "    \n",
    "    \n",
    "    if not exit_main:\n",
    "        if inputMode == 1:\n",
    "            # Example: file1.pdf, file2.pdf\n",
    "            inputString = input(\"\\nExample: file1.pdf, file2.pdf\\nEnter PDF File Name(s): \")\n",
    "            splitString = [x.strip() for x in inputString.split(',')]\n",
    "            filenames = [f for f in splitString]\n",
    "\n",
    "        else:\n",
    "            # Example: pdf\n",
    "            inputString = input(\"\\nExample: pdf\\nEnter PDF Folder Name: \")\n",
    "            splitString = inputString.strip()\n",
    "            if not os.path.isdir(splitString):\n",
    "                print(\"\\nFolder does Not Exist!\")\n",
    "            filenames = glob.glob(splitString+'/*.*')\n",
    "\n",
    "        if len(filenames) > 0:\n",
    "            print()\n",
    "            for file in filenames:\n",
    "                PDF_TXT(file)\n",
    "\n",
    "\n",
    "if __name__ == '__main__':\n",
    "    \n",
    "    main()"
   ]
  },
  {
   "cell_type": "code",
   "execution_count": 2,
   "id": "8a718cf5",
   "metadata": {},
   "outputs": [
    {
     "name": "stdout",
     "output_type": "stream",
     "text": [
      "File Name(s): 1\n",
      "Folder Name : 2\n",
      "Exit Program: *\n",
      "Select Input Mode: 2\n",
      "\n",
      "Example: pdf\n",
      "Enter PDF Folder Name: pdf\n",
      "\n",
      "Source File: pdf\\file1.pdf\n",
      "Saved File : pdf\\file1.txt\n",
      "\n",
      "Source File: pdf\\file2.pdf\n",
      "Saved File : pdf\\file2.txt\n",
      "\n",
      "pdf\\non_pdf.txt is Not A PDF File!\n",
      "\n"
     ]
    }
   ],
   "source": [
    "main()"
   ]
  },
  {
   "cell_type": "code",
   "execution_count": null,
   "id": "b732cba2",
   "metadata": {},
   "outputs": [],
   "source": []
  }
 ],
 "metadata": {
  "kernelspec": {
   "display_name": "Python 3 (ipykernel)",
   "language": "python",
   "name": "python3"
  },
  "language_info": {
   "codemirror_mode": {
    "name": "ipython",
    "version": 3
   },
   "file_extension": ".py",
   "mimetype": "text/x-python",
   "name": "python",
   "nbconvert_exporter": "python",
   "pygments_lexer": "ipython3",
   "version": "3.10.13"
  }
 },
 "nbformat": 4,
 "nbformat_minor": 5
}
